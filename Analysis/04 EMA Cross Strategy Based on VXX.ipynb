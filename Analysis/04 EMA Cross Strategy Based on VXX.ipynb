{
 "cells": [
  {
   "cell_type": "markdown",
   "metadata": {},
   "source": [
    "![QuantConnect Logo](https://cdn.quantconnect.com/web/i/logo-small.png)\n",
    " \n",
    "Refer to this page for documentation https://www.quantconnect.com/docs#Introduction-to-Jupyter\n",
    "\n",
    "Contribute to this file https://github.com/QuantConnect/Research/tree/master/Notebooks"
   ]
  },
  {
   "cell_type": "markdown",
   "metadata": {},
   "source": [
    "## EMA Cross Strategy\n",
    "In this research we will demonstrate a simple EMA cross strategy and how to generate the equity curve for this strategy.\n",
    "- Check the algorithm implementation on LEAN \n",
    "\n",
    "https://www.quantconnect.com/terminal/processCache/?request=embedded_backtest_e171fd2869c47c15dac0ec26409d85ec.html\n",
    "\n",
    "Here we ignore the fees when we generate the profit curve so the statistics result might be slightly different from the LEAN implementation."
   ]
  },
  {
   "cell_type": "code",
   "execution_count": 1,
   "metadata": {},
   "outputs": [],
   "source": [
    "%matplotlib inline\n",
    "# Imports\n",
    "from clr import AddReference\n",
    "AddReference(\"System\")\n",
    "AddReference(\"QuantConnect.Common\")\n",
    "AddReference(\"QuantConnect.Jupyter\")\n",
    "AddReference(\"QuantConnect.Indicators\")\n",
    "from System import *\n",
    "from QuantConnect import *\n",
    "from QuantConnect.Data.Market import TradeBar, QuoteBar\n",
    "from QuantConnect.Jupyter import *\n",
    "from QuantConnect.Indicators import *\n",
    "from datetime import datetime, timedelta\n",
    "import matplotlib.pyplot as plt\n",
    "import pandas as pd\n",
    "import numpy as np\n",
    "from math import ceil, floor\n",
    "# Create an instance\n",
    "qb = QuantBook()\n",
    "plt.style.use('seaborn-whitegrid')"
   ]
  },
  {
   "cell_type": "markdown",
   "metadata": {},
   "source": [
    "### Step 0:\n",
    "First we define some functions that we need to generate the equity curve."
   ]
  },
  {
   "cell_type": "code",
   "execution_count": 4,
   "metadata": {},
   "outputs": [],
   "source": [
    "def calculateQuantity(signal, price, cash):\n",
    "    \"\"\"\n",
    "    This function calculate the quantity based on the signal and initial cash \n",
    "    \n",
    "    Parameters:\n",
    "            signal(pandas.Series): The trading signal series of stock indexed by date (long 1, short -1, holding 0)\n",
    "            price(pandas.Series) : The price series of stock indexed by date\n",
    "            cash(float): The total cash for trading\n",
    "    \n",
    "    Returns(pandas.Series):\n",
    "            quantity(pandas.Series): The number of holding shares indexed by date \n",
    "    \"\"\"\n",
    "\n",
    "    index = np.where(signal.shift(1) != signal)[0][1:]\n",
    "    quantity_temp = floor(cash/price[0])\n",
    "    cash_left_temp = cash\n",
    "    quantity = [quantity_temp]\n",
    "    cash_left = [cash_left_temp]\n",
    "\n",
    "    for i in range(1,len(price)):\n",
    "        if i in index:\n",
    "            if signal[i-1] * signal[i] == -1:\n",
    "                cash_left_liquidate = cash_left[i-1] + (signal[i-1]- 0) * quantity[-1] * price[i]                    \n",
    "                quantity_temp = floor(cash_left_liquidate / price[i])\n",
    "                cash_left_temp = cash_left_liquidate + (0 - signal[i]) * quantity_temp * price[i] \n",
    " \n",
    "                if quantity_temp == 0:\n",
    "                    # print(\"{0} Order Failed (No enough money)  Cash left: {1} share price: {2}\".format(signal.index[i],cash_left_temp,price[i]))                    \n",
    "                    quantity_temp =  quantity[i-1]\n",
    "                \n",
    "                if cash_left_liquidate < 0:\n",
    "                    quantity_temp = 0\n",
    "                                         \n",
    "            elif signal[i-1] * signal[i] == 0:\n",
    "                quantity_temp = floor(cash_left[i-1] / price[i])\n",
    "                cash_left_temp = cash_left[i-1] + (signal[i-1]- signal[i]) * quantity_temp * price[i]        \n",
    "                    \n",
    "                if quantity_temp == 0:\n",
    "                    # print(\"{0} Order Failed (No enough money)  Cash left: {1} share price: {2}\".format(signal.index[i],cash_left_temp,price[i]))\n",
    "                    quantity_temp =  quantity[i-1]\n",
    "                       \n",
    "        quantity.append(quantity_temp)\n",
    "        cash_left.append(cash_left_temp)\n",
    "   \n",
    "    return pd.Series(quantity, index = signal.index)"
   ]
  },
  {
   "cell_type": "code",
   "execution_count": 6,
   "metadata": {},
   "outputs": [],
   "source": [
    "class NetProfit:\n",
    "    \"\"\"\n",
    "    This class calculates the net profit for strategy trading individual stock\n",
    "    \n",
    "    Args:\n",
    "        price(pandas.Series) : The price series of stock indexed by date\n",
    "        signal(pandas.Series): The trading signal series of stock indexed by date (long 1, short -1, holding 0)\n",
    "\n",
    "    Attributes:\n",
    "        price(pandas.Series) : The price series of stock indexed by date\n",
    "        signal(pandas.Series): The trading signal series of stock indexed by date (long 1, short -1, holding 0)\n",
    "        quantity(pandas.Series): The number of holding shares indexed by date \n",
    "    \n",
    "    Note:\n",
    "        If there is no quantity, the default value of quantity is 1 share at each time step)       \n",
    "    \"\"\"\n",
    "    \n",
    "    def __init__(self, price, signal):\n",
    "        self.price = price\n",
    "        self.signal = signal\n",
    "        self.quantity = pd.Series([1]*len(self.price),index = self.price.index)\n",
    "        \n",
    "        \n",
    "    def net_profit(self):\n",
    "       \n",
    "        \"\"\"\n",
    "        calculate the net profit\n",
    "        \n",
    "        Returns(pandas.Series):\n",
    "                The net profit for strategy        \n",
    "        \"\"\"\n",
    "        #   log_return = np.log(self.price/self.price.shift(1))\n",
    "        #   cum_return = np.exp(((log_return)*self.signal.shift(1)).cumsum())*self.quantity\n",
    "        pct_return = self.price.pct_change()\n",
    "        cum_return = ((pct_return)*self.signal.shift(1) + 1).cumprod()*self.quantity \n",
    "        net_profit = cum_return.dropna()*self.price[0] \n",
    "        return net_profit   \n",
    "    \n",
    "class PortfolioNetProfit:\n",
    "    \"\"\"\n",
    "    This class calculates the net profit for strategy trading a porfolio of stocks or singal stock\n",
    "    \n",
    "    Args:\n",
    "        data(dict): A dictionary stores the data for multiple stocks \n",
    "                    keys(string): \n",
    "                                symbols\n",
    "                    values(dataframe): \n",
    "                                Index: date \n",
    "                                Columns: ['price','signal','quantity'] or ['price','signal']         \n",
    "    \"\"\"\n",
    "    \n",
    "    def __init__(self,data):\n",
    "        self.data = data\n",
    "        \n",
    "    def net_profit(self):\n",
    "        \"\"\"\n",
    "        Calculate the net profit for the portfolio\n",
    "        \n",
    "        Returns(pandas.Series):\n",
    "                The net profit for strategy\n",
    "            \n",
    "        \"\"\"\n",
    "        dataframe = self.data[list(self.data.keys())[0]]\n",
    "        net_profit_port = pd.Series([0]*(len(dataframe)),index = dataframe.index)\n",
    "       \n",
    "        for i in self.data:\n",
    "            df = self.data[i]\n",
    "            net_profit_each = NetProfit(df['price'],df['signal'])\n",
    "            try:\n",
    "                net_profit_each.quantity = df['quantity'] # if there is no quantity, the default is 1 \n",
    "            except:\n",
    "                pass\n",
    "            cum_return = net_profit_each.net_profit()\n",
    "            net_profit_port = net_profit_port.add(cum_return,fill_value=0)        \n",
    "\n",
    "        return net_profit_port[1:]\n",
    "    \n",
    "    def curve(self):\n",
    "        \"\"\"\n",
    "        Plot the equity curve for strategy contain a portfolio of stocks\n",
    "        \"\"\"\n",
    "        net_profit_port = self.net_profit()\n",
    "        plt.figure(figsize =(15,7))\n",
    "        plt.plot(net_profit_port.index, net_profit_port,label ='Portfolio Net Profit ($)')\n",
    "        plt.legend()        \n"
   ]
  },
  {
   "cell_type": "markdown",
   "metadata": {
    "collapsed": true
   },
   "source": [
    " ### Step 1:\n",
    "First, we develop a simple strategy using VXX indicator and generate the trading signals. The strategy is as follows:\n",
    "\n",
    "Go long the ETFs in the portfolio when the 30-day exponential moving average (EMA) of VXX cross the close from the top, short the ETFs when the 30-day EMA of VXX cross the close from the bottom. The portfolio includes five index ETFs."
   ]
  },
  {
   "cell_type": "code",
   "execution_count": 7,
   "metadata": {},
   "outputs": [],
   "source": [
    "symbols = [\"VXX\",\"SPY\",\"IWM\",\"DIA\"]\n",
    "data = {}\n",
    "for syl in symbols:\n",
    "    qb.AddEquity(syl)\n",
    "    data[syl] = qb.History([syl], datetime(2010,1,1), datetime.now(), Resolution.Daily).loc[syl]['close']\n",
    "    data[syl].index = data[syl].index.date\n",
    "df_price = pd.DataFrame(data, columns=data.keys())"
   ]
  },
  {
   "cell_type": "code",
   "execution_count": 8,
   "metadata": {},
   "outputs": [],
   "source": [
    "# Generate the EMA indicator for VXX \n",
    "days=len(df_price)\n",
    "ema = qb.Indicator(ExponentialMovingAverage(10), \"VXX\", days, Resolution.Daily)\n",
    "ema.columns = ['EMA']\n",
    "df = pd.concat([ema,df_price], axis=1, join='inner')\n"
   ]
  },
  {
   "cell_type": "code",
   "execution_count": 9,
   "metadata": {},
   "outputs": [],
   "source": [
    "# Generate the trading signals\n",
    "signal = pd.Series([np.nan]*len(df),index =df.index)\n",
    "sell = (df['VXX'] > df['EMA']) & (df['VXX'].shift(1) < df['EMA'])                      \n",
    "buy = (df['VXX'] < df['EMA']) & (df['VXX'].shift(1) > df['EMA'])\n",
    "\n",
    "for i in range(len(df)):\n",
    "    if sell[i]:\n",
    "        signal[i] = 0\n",
    "    elif buy[i]:\n",
    "        signal[i] = 1        \n",
    "df['signal'] = signal.fillna(method='ffill').fillna(0)"
   ]
  },
  {
   "cell_type": "markdown",
   "metadata": {},
   "source": [
    "### Step 2:\n",
    "Store the price, signal and holding shares quantity in a dictionary keyed by symbols. The quantity is calculated using our function by setting the initial cash and inputting the signal and price."
   ]
  },
  {
   "cell_type": "code",
   "execution_count": 10,
   "metadata": {},
   "outputs": [],
   "source": [
    "# here we choose the quantity to be 2 shares for each ETFs \n",
    "# if there is no 'quantity' in dataframe, the default quantity is 1\n",
    "# The dictionary could only contain one stock\n",
    "total_cash = 100000\n",
    "cash_each = total_cash / len(symbols[1:])\n",
    "data_dict = {}\n",
    "for i in symbols[1:]:\n",
    "    data_dict[i] = pd.DataFrame({'price':df[i].values,\n",
    "                                 'signal':df['signal'].values,\n",
    "                                 'quantity':calculateQuantity(df['signal'].shift(1), df[i], cash_each)}, index = df[i].index)   \n",
    "        "
   ]
  },
  {
   "cell_type": "markdown",
   "metadata": {
    "collapsed": true
   },
   "source": [
    "### Step 3:\n",
    "Calculate the net profit for the strategy and plot the equity curve. Use \"SPY\" as the benchmark."
   ]
  },
  {
   "cell_type": "code",
   "execution_count": 11,
   "metadata": {},
   "outputs": [
    {
     "data": {
      "text/plain": [
       "<matplotlib.legend.Legend at 0x7f10d7e21e10>"
      ]
     },
     "execution_count": 11,
     "metadata": {},
     "output_type": "execute_result"
    },
    {
     "data": {
      "image/png": "[encoded data removed]",
      "text/plain": [
       "<matplotlib.figure.Figure at 0x7f10d817cbe0>"
      ]
     },
     "metadata": {},
     "output_type": "display_data"
    }
   ],
   "source": [
    "profit_strategy = PortfolioNetProfit(data_dict).net_profit()\n",
    "profit_benchmark = (df['SPY'])*(total_cash/df['SPY'][0])\n",
    "# plot the equity curve for the strategy\n",
    "PortfolioNetProfit(data_dict).curve() \n",
    "# plot the equity curve for the benchmark\n",
    "plt.plot(profit_benchmark, label='benchmark SPY profit($)')\n",
    "plt.legend()"
   ]
  },
  {
   "cell_type": "markdown",
   "metadata": {
    "collapsed": true
   },
   "source": [
    "### Step 4:\n",
    "Calculatet the statistics to evaluate the performance of the strategy.\n",
    "How to calculate the strategy statistics?\n",
    "\n",
    "- *GetPortfolioStatistics(PyObject dataFrame)*\n",
    "\n",
    "GetPortfolioStatistics API gets portfolio Statistics from a pandas.DataFrame with equity and benchmark values. The columns are 'benchmark' and 'equity'. The value is the cumulative profit of the strategy and the benchmark(buy and hold the benchmark equity strategy).\n",
    "\n",
    "Refer to the QuantBook on Github for details:\n",
    "https://github.com/QuantConnect/Lean/blob/cc46cd367f5a0c415e6ac2462b903a27a86eedcb/Jupyter/QuantBook.cs#L505"
   ]
  },
  {
   "cell_type": "code",
   "execution_count": 12,
   "metadata": {},
   "outputs": [],
   "source": [
    "performance = pd.concat([profit_benchmark,profit_strategy],axis=1)[1:]\n",
    "performance.columns = ['benchmark','equity']"
   ]
  },
  {
   "cell_type": "code",
   "execution_count": 13,
   "metadata": {},
   "outputs": [],
   "source": [
    "stats = qb.GetPortfolioStatistics(performance)"
   ]
  },
  {
   "cell_type": "code",
   "execution_count": 14,
   "metadata": {
    "scrolled": true
   },
   "outputs": [
    {
     "data": {
      "text/plain": [
       "{'Alpha': 0.025626879608200377,\n",
       " 'Annual Standard Deviation': 0.108615810217864,\n",
       " 'Annual Variance': 0.011797394229283118,\n",
       " 'Average Loss (%)': -3.0145964146246155e-06,\n",
       " 'Average Win (%)': 5.671196388120762e-06,\n",
       " 'Beta': 0.481217139398708,\n",
       " 'Compounding Annual Return (%)': 8.88316669670892,\n",
       " 'Drawdown (%)': 14.7,\n",
       " 'Expectancy': 0.12001774494578009,\n",
       " 'Information Ratio': -0.40003765498221394,\n",
       " 'Loss Rate (%)': 61.12730806608357,\n",
       " 'Net Profit (%)': 100.47742283569691,\n",
       " 'Profit-Loss Ratio': 1.8812456488730194,\n",
       " 'Sharpe Ratio': 0.8385125945061834,\n",
       " 'Tracking Error': 0.112317332786866,\n",
       " 'Treynor Ratio': 0.18926118247569823,\n",
       " 'Win Rate (%)': 38.87269193391642}"
      ]
     },
     "execution_count": 14,
     "metadata": {},
     "output_type": "execute_result"
    }
   ],
   "source": [
    "stats"
   ]
  }
 ],
 "metadata": {
  "kernelspec": {
   "display_name": "Python 3",
   "language": "python",
   "name": "python3"
  },
  "language_info": {
   "codemirror_mode": {
    "name": "ipython",
    "version": 3
   },
   "file_extension": ".py",
   "mimetype": "text/x-python",
   "name": "python",
   "nbconvert_exporter": "python",
   "pygments_lexer": "ipython3",
   "version": "3.6.4"
  }
 },
 "nbformat": 4,
 "nbformat_minor": 2
}
