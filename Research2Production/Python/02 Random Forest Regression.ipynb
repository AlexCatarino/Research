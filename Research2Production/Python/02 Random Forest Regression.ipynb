{
 "cells": [
  {
   "cell_type": "markdown",
   "metadata": {},
   "source": [
    "![QuantConnect Logo](https://cdn.quantconnect.com/web/i/icon.png)\n",
    "<hr>"
   ]
  },
  {
   "cell_type": "markdown",
   "metadata": {},
   "source": [
    "### Random Forest Regression\n",
    "\n",
    "For another installment of our \"mini-series\" of examples on how to move your work from the research environment and into production, we've shown how you can implement a basic random forest regression model using the sklearn RandomForestRegressor. Briefly, random forests is a supervised learning algorithm that we here use specifically for regression in order to identify important features of our dataset and create weights to build a tradeable portfolio. \n",
    "\n",
    "To start, we continue to use the US Treasuries ETF basket and get the historical data we want. We'll use the most recent 1000 hours of historical data to create our train / test data sets."
   ]
  },
  {
   "cell_type": "code",
   "execution_count": 1,
   "metadata": {},
   "outputs": [],
   "source": [
    "# QuantBook Analysis Tool \n",
    "# For more information see [https://www.quantconnect.com/docs/research/overview]\n",
    "from sklearn.ensemble import RandomForestRegressor\n",
    "from sklearn.model_selection import train_test_split\n",
    "qb = QuantBook()\n",
    "qb\n",
    "\n",
    "symbols = {}\n",
    "assets = [\"SHY\", \"TLT\", \"SHV\", \"TLH\", \"EDV\", \"BIL\",\n",
    "                  \"SPTL\", \"TBT\", \"TMF\", \"TMV\", \"TBF\", \"VGSH\", \"VGIT\",\n",
    "                  \"VGLT\", \"SCHO\", \"SCHR\", \"SPTS\", \"GOVT\"]\n",
    "\n",
    "for i in range(len(assets)):\n",
    "    symbols[assets[i]] = qb.AddEquity(assets[i],Resolution.Minute).Symbol\n",
    "\n",
    "#Copy Paste Region For Backtesting.\n",
    "#==========================================\n",
    "# Set up classifier\n",
    "# Initialize instance of Random Forest Regressor\n",
    "regressor = RandomForestRegressor(n_estimators=100, min_samples_split=5, random_state = 1990)\n",
    "\n",
    "# Fetch history on our universe\n",
    "df = qb.History(qb.Securities.Keys, 500, Resolution.Hour)\n",
    "\n",
    "# Get train/test data\n",
    "returns = df.unstack(level=1).close.transpose().pct_change().dropna()\n",
    "X = returns\n",
    "# use real portfolio value in algo: y = [x for x in qb.portfolioValue][-X.shape[0]:]\n",
    "y = np.random.normal(100000, 5, X.shape[0])\n",
    "X_train, X_test, y_train, y_test = train_test_split(X, y, test_size = 0.2, random_state = 1990)"
   ]
  },
  {
   "cell_type": "markdown",
   "metadata": {},
   "source": [
    "Once we have our data and have initialized our regressor, we fit the model and then can determine the importance of each feature, which in this case are the different symbols.\n",
    "\n",
    "Our final variable <em>selected</em> is a zip of symbol-weight tuples to be used in building our portfolio."
   ]
  },
  {
   "cell_type": "code",
   "execution_count": 2,
   "metadata": {},
   "outputs": [
    {
     "name": "stdout",
     "output_type": "stream",
     "text": [
      "Symbol: BIL TT1EBZ21QWKL, Weight: 0.06860311608980395\n",
      "Symbol: EDV TYCF240SL9PH, Weight: 0.06236283531890688\n",
      "Symbol: GOVT V45XL2BVKU3P, Weight: 0.04368632766949955\n",
      "Symbol: SCHO UOVIOSUIT3DX, Weight: 0.061877890201449244\n",
      "Symbol: SCHR UOVIOSUIT3DX, Weight: 0.07772532787888427\n",
      "Symbol: SHV TP8J6Z7L419H, Weight: 0.06571655997142939\n",
      "Symbol: SHY SGNKIKYGE9NP, Weight: 0.0637328714858151\n",
      "Symbol: SST V2245V5VOQQT, Weight: 0.09435425484418379\n",
      "Symbol: TBF UF9WRZG9YA1X, Weight: 0.043968112419911415\n",
      "Symbol: TBT U297ZHBXJ5NP, Weight: 0.035527396871039806\n",
      "Symbol: TLH TP8J6Z7L419H, Weight: 0.07438852724550572\n",
      "Symbol: TLO TT1EBZ21QWKL, Weight: 0.04383431314645853\n",
      "Symbol: TLT SGNKIKYGE9NP, Weight: 0.02775756426489062\n",
      "Symbol: TMF UBTUG7D0B7TX, Weight: 0.029645002255879502\n",
      "Symbol: TMV UBTUG7D0B7TX, Weight: 0.03533909176068473\n",
      "Symbol: VGIT UHVG8V7B7YAT, Weight: 0.06269298525092254\n",
      "Symbol: VGLT UHVG8V7B7YAT, Weight: 0.03941532098553043\n",
      "Symbol: VGSH UHVG8V7B7YAT, Weight: 0.06937250233920446\n"
     ]
    }
   ],
   "source": [
    "\n",
    "# Fit regressor\n",
    "regressor.fit(X_train, y_train)\n",
    "\n",
    "# Get long-only predictions\n",
    "weights = regressor.feature_importances_\n",
    "symbols = returns.columns[np.where(weights)]\n",
    "selected = zip(symbols, weights)\n",
    "for x, y in selected:\n",
    "    print(f'Symbol: {x}, Weight: {y}')"
   ]
  },
  {
   "cell_type": "code",
   "execution_count": null,
   "metadata": {},
   "outputs": [],
   "source": []
  }
 ],
 "metadata": {
  "kernelspec": {
   "display_name": "Python 3",
   "language": "python",
   "name": "python3"
  },
  "language_info": {
   "codemirror_mode": {
    "name": "ipython",
    "version": 3
   },
   "file_extension": ".py",
   "mimetype": "text/x-python",
   "name": "python",
   "nbconvert_exporter": "python",
   "pygments_lexer": "ipython3",
   "version": "3.6.8"
  }
 },
 "nbformat": 4,
 "nbformat_minor": 2
}
