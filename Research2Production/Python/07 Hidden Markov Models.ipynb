{
 "cells": [
  {
   "cell_type": "markdown",
   "metadata": {},
   "source": [
    "![QuantConnect Logo](https://cdn.quantconnect.com/web/i/icon.png)\n",
    "<hr>"
   ]
  },
  {
   "cell_type": "markdown",
   "metadata": {},
   "source": [
    "## Hidden Markov Models"
   ]
  },
  {
   "cell_type": "markdown",
   "metadata": {},
   "source": [
    "One of the most important aspects of trading is risk management. Knowing when the market is going to move against you and acting before this happens is the best way to avoid large drawdowns and maximize your Sharpe ratio. The ultimate strategy is buy-low, sell-high. The trouble with this, however, is knowing when low is low and high is high. Hindsight is 20/20, but can we find a way to understand when markets are about to shift from bull to bear?\n",
    "\n",
    "One possibility is to use a Hidden Markov Model (HMM). These are Markov models where the system is being modeled as a Markov process but whose states are unobserved, or hidden. (Briefly, a Markov process is a stochastic process where the possibility of switching to another state depends only on the current state of the model -- it is history-independent, or memoryless). In a regular Markov model, the state is observable by the user and so the only parameters are the state transition probabilities. For example, in a two-state Markov model, the user is able to know which state the system being modeled is in, and so the only model parameters to be characterized are the probabilities of attaining each state.\n",
    "\n",
    "As with Kalman filters, there are three main aspects of interest to us:\n",
    "\n",
    "* Prediction - forecasting future values of the process\n",
    "* Filtering - estimating the current state of the model\n",
    "* Smoothing - estimating past states of the model\n",
    "\n",
    "The salient feature here is prediction as our ultimate goal is to predict the market state. To experiment with this, we used the research notebook to get historical data for SPY and fit a Gaussian, two-state Hidden Markov Model to the data. We built a few functions to build, fit, and predict from our Gaussian HMM."
   ]
  },
  {
   "cell_type": "code",
   "execution_count": 1,
   "metadata": {},
   "outputs": [],
   "source": [
    "# Import necessary libraries and get historical data\n",
    "import numpy as np\n",
    "from hmmlearn.hmm import GaussianHMM\n",
    "qb = QuantBook()\n",
    "\n",
    "symbol = qb.AddEquity('SPY', Resolution.Daily).Symbol\n",
    "\n",
    "# Fetch history and returns\n",
    "history = qb.History(symbol, 500, Resolution.Hour)\n",
    "returns = history.close.pct_change().dropna()"
   ]
  },
  {
   "cell_type": "code",
   "execution_count": 2,
   "metadata": {},
   "outputs": [],
   "source": [
    "# Define Hidden Markov Model functions\n",
    "def CreateHMM(algorithm, symbol):\n",
    "    history = algorithm.History([symbol], 900, Resolution.Daily)\n",
    "    returns = np.array(history.loc[symbol].close.pct_change().dropna())\n",
    "    # Reshape returns\n",
    "    returns = np.array(returns).reshape((len(returns),1))\n",
    "    # Initialize Gaussian Hidden Markov Model\n",
    "    model = GaussianHMM(n_components=2, covariance_type=\"full\", n_iter=1000).fit(returns)\n",
    "    print(model.score(returns))\n",
    "    return model\n",
    "    \n",
    "def RefitModel(algorithm, symbol, model):\n",
    "    history = algorithm.History([symbol], 900, Resolution.Daily)\n",
    "    returns = np.array(history.loc[symbol].close.pct_change().dropna())\n",
    "    # Reshape returns\n",
    "    returns = np.array(returns).reshape((len(returns),1))\n",
    "    return model.fit(returns)\n",
    "\n",
    "def PlotStates(algorithm, symbol, model):\n",
    "    history = algorithm.History([symbol], 900, Resolution.Daily).loc[symbol]\n",
    "    returns = history.close.pct_change().dropna()\n",
    "\n",
    "    hidden_states = model.predict(np.array(returns).reshape((len(returns),1)))\n",
    "    hidden_states = pd.Series(hidden_states, index = returns.index)\n",
    "    hidden_states.name = 'hidden'\n",
    "    \n",
    "    bull = hidden_states.loc[hidden_states.values == 0]\n",
    "    bear = hidden_states.loc[hidden_states.values == 1]\n",
    "    plt.figure()\n",
    "    ax = plt.gca()\n",
    "    ax.plot(bull.index, bull.values, \".\", linestyle='none', c = 'b', label = \"Bull Market\")\n",
    "    ax.plot(bear.index, bear.values, \".\", linestyle='none', c = 'r', label = \"Bear Market\")\n",
    "    plt.title('Hidden States')\n",
    "    ax.legend()\n",
    "    plt.show()\n",
    "    \n",
    "    df = history.join(hidden_states, how = 'inner')\n",
    "    df = df[['close', 'hidden']]\n",
    "    up = pd.Series()\n",
    "    down = pd.Series()\n",
    "    mid = pd.Series()\n",
    "    for tuple in df.itertuples():\n",
    "        if tuple.hidden == 0:\n",
    "            x = pd.Series(tuple.close, index = [tuple.Index])\n",
    "            up = up.append(x)\n",
    "        else:\n",
    "            x = pd.Series(tuple.close, index = [tuple.Index])\n",
    "            down = down.append(x)\n",
    "    up = up.sort_index()\n",
    "    down = down.sort_index()\n",
    "    plt.figure()\n",
    "    ax = plt.gca()\n",
    "    ax.plot(up.index, up.values, \".\", linestyle='none', c = 'b', label = \"Bull Market\")\n",
    "    ax.plot(down.index, down.values, \".\", linestyle='none', c = 'r', label = \"Bear Market\")\n",
    "    plt.title('SPY')\n",
    "    ax.legend()\n",
    "    plt.show()"
   ]
  },
  {
   "cell_type": "code",
   "execution_count": 3,
   "metadata": {},
   "outputs": [
    {
     "name": "stdout",
     "output_type": "stream",
     "text": [
      "3078.595332747756\n"
     ]
    },
    {
     "name": "stderr",
     "output_type": "stream",
     "text": [
      "/opt/miniconda3/lib/python3.6/site-packages/pandas/plotting/_matplotlib/converter.py:103: FutureWarning: Using an implicitly registered datetime converter for a matplotlib plotting method. The converter was registered by pandas on import. Future versions of pandas will require you to explicitly register matplotlib converters.\n",
      "\n",
      "To register the converters:\n",
      "\t>>> from pandas.plotting import register_matplotlib_converters\n",
      "\t>>> register_matplotlib_converters()\n",
      "  warnings.warn(msg, FutureWarning)\n"
     ]
    },
    {
     "data": {
      "image/png": "[encoded data removed]",
      "text/plain": [
       "<Figure size 432x288 with 1 Axes>"
      ]
     },
     "metadata": {
      "needs_background": "light"
     },
     "output_type": "display_data"
    },
    {
     "data": {
      "image/png": "[encoded data removed]",
      "text/plain": [
       "<Figure size 432x288 with 1 Axes>"
      ]
     },
     "metadata": {
      "needs_background": "light"
     },
     "output_type": "display_data"
    }
   ],
   "source": [
    "# Build the model and plot good/bad regime states\n",
    "model = CreateHMM(qb, symbol)\n",
    "PlotStates(qb, symbol, model)"
   ]
  },
  {
   "cell_type": "markdown",
   "metadata": {},
   "source": [
    "##### (The specific application of an HMM to SPY returns and as use in risk management is thanks in part to articles on HMM and trading found [here](https://www.quantstart.com/articles/market-regime-detection-using-hidden-markov-models-in-qstrader/) and [here](https://www.quantstart.com/articles/hidden-markov-models-for-regime-detection-using-r/).)"
   ]
  },
  {
   "cell_type": "code",
   "execution_count": null,
   "metadata": {},
   "outputs": [],
   "source": []
  }
 ],
 "metadata": {
  "kernelspec": {
   "display_name": "Python 3",
   "language": "python",
   "name": "python3"
  },
  "language_info": {
   "codemirror_mode": {
    "name": "ipython",
    "version": 3
   },
   "file_extension": ".py",
   "mimetype": "text/x-python",
   "name": "python",
   "nbconvert_exporter": "python",
   "pygments_lexer": "ipython3",
   "version": "3.6.8"
  }
 },
 "nbformat": 4,
 "nbformat_minor": 2
}