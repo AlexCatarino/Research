{
 "cells": [
  {
   "cell_type": "markdown",
   "metadata": {},
   "source": [
    "![QuantConnect Logo](https://cdn.quantconnect.com/web/i/icon.png)\n",
    "<hr>"
   ]
  },
  {
   "cell_type": "markdown",
   "metadata": {},
   "source": [
    "### Uncorrelated Assets\n",
    "Finding uncorrelated assets allows you to find a portfolio that will, theoretically, be more diversified and resilient to extreme market events. When combined with other indicators and data sources, this can be an important component in building an algorithm that limits drawdown and remains profitable in choppy markets.\n",
    "\n",
    "The first step is to execute the cell containing our correlation function and then grab the historical data for the securities and use this to fetch returns data."
   ]
  },
  {
   "cell_type": "code",
   "execution_count": 1,
   "metadata": {},
   "outputs": [],
   "source": [
    "# This cell is the function we use to get correlation ranks\n",
    "def GetUncorrelatedAssets(returns, num_assets):\n",
    "    # Get correlation\n",
    "    correlation = returns.corr()\n",
    "    \n",
    "    # Find assets with lowest mean correlation, scaled by STD\n",
    "    selected = []\n",
    "    for index, row in correlation.iteritems():\n",
    "        corr_rank = row.abs().mean()/row.abs().std()\n",
    "        selected.append((index, corr_rank))\n",
    "\n",
    "    # Sort and take the top num_assets\n",
    "    selected = sorted(selected, key = lambda x: x[1])[:num_assets]\n",
    "    \n",
    "    return selected"
   ]
  },
  {
   "cell_type": "code",
   "execution_count": 2,
   "metadata": {},
   "outputs": [],
   "source": [
    "# Import custom functions\n",
    "qb = QuantBook()\n",
    "\n",
    "tickers = [\"SQQQ\", \"TQQQ\", \"TVIX\", \"VIXY\", \"SPLV\",\n",
    "           \"SVXY\", \"UVXY\", \"EEMV\", \"EFAV\", \"USMV\"]\n",
    "symbols = [qb.AddEquity(x, Resolution.Minute) for x in tickers]\n",
    "\n",
    "# Fetch history\n",
    "history = qb.History(qb.Securities.Keys, 150, Resolution.Hour)\n",
    "\n",
    "# Get hourly returns\n",
    "returns = history.unstack(level = 1).close.transpose().pct_change().dropna()"
   ]
  },
  {
   "cell_type": "markdown",
   "metadata": {},
   "source": [
    "Then, we calculate the correlation of the returns, which gives us a correlation matrix. In the GetUncorrelatedAssets function, we figure out which symbols have the lowest overall correlation with the rest of the symbols as a whole -- we want to find the five assets with the lowest average absolute correlation so that we can trade them without fearing that any pair are too highly correlated."
   ]
  },
  {
   "cell_type": "code",
   "execution_count": 3,
   "metadata": {},
   "outputs": [
    {
     "data": {
      "text/plain": [
       "[('VIXY UT076X30D0MD', 6.908714329573668),\n",
       " ('UVXY V0H08FY38ZFP', 6.976330405968959),\n",
       " ('SVXY V0H08FY38ZFP', 7.041772632696755),\n",
       " ('SPLV UWBCA8CFMB1H', 7.109323797061953),\n",
       " ('TVIX US1QJNA3OM05', 7.113355127827484)]"
      ]
     },
     "execution_count": 3,
     "metadata": {},
     "output_type": "execute_result"
    }
   ],
   "source": [
    "# Get 5 assets with least overall correlation\n",
    "selected = GetUncorrelatedAssets(returns, 5)\n",
    "selected"
   ]
  }
 ],
 "metadata": {
  "kernelspec": {
   "display_name": "Python 3",
   "language": "python",
   "name": "python3"
  },
  "language_info": {
   "codemirror_mode": {
    "name": "ipython",
    "version": 3
   },
   "file_extension": ".py",
   "mimetype": "text/x-python",
   "name": "python",
   "nbconvert_exporter": "python",
   "pygments_lexer": "ipython3",
   "version": "3.6.8"
  }
 },
 "nbformat": 4,
 "nbformat_minor": 2
}