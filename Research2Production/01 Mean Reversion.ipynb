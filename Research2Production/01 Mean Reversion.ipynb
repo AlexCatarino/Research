{
 "cells": [
  {
   "cell_type": "markdown",
   "metadata": {},
   "source": [
    "![QuantConnect Logo](https://cdn.quantconnect.com/web/i/icon.png)\n",
    "<hr>"
   ]
  },
  {
   "cell_type": "markdown",
   "metadata": {},
   "source": [
    "### Mean Reversion\n",
    "A number of financial signals can be thought to be mean-reverting (i.e. the spread between two assets prices). There are a number of ways to test for mean-reversion, but in this example we will assume it holds.\n",
    "\n",
    "We use the research notebook to calculate the spread between an asset's price and its historical mean (past 30 days). Then, we calculate the standard deviation and determine which assets have moved more than one standard deviation below their average price. The theory is that they are due to revert back towards the mean, and so we can take advantage of this by taking long positions."
   ]
  },
  {
   "cell_type": "code",
   "execution_count": 1,
   "metadata": {},
   "outputs": [
    {
     "name": "stdout",
     "output_type": "stream",
     "text": [
      "Symbol: BIL TT1EBZ21QWKL, Magnitude: 0.013359453149532978\n",
      "Symbol: EDV TYCF240SL9PH, Magnitude: 3.3265208673173503\n",
      "Symbol: GOVT V45XL2BVKU3P, Magnitude: 0.11821631840615553\n",
      "Symbol: SHV TP8J6Z7L419H, Magnitude: 0.03615110356200481\n",
      "Symbol: TLO TT1EBZ21QWKL, Magnitude: 0.6459442217433491\n",
      "Symbol: TLT SGNKIKYGE9NP, Magnitude: 2.3672705126087825\n",
      "Symbol: TMF UBTUG7D0B7TX, Magnitude: 1.7547680856690884\n",
      "Symbol: VGLT UHVG8V7B7YAT, Magnitude: 1.3637322489563317\n"
     ]
    }
   ],
   "source": [
    "# QuantBook Analysis Tool \n",
    "# For more information see [https://www.quantconnect.com/docs/research/overview]\n",
    "import numpy as np\n",
    "qb = QuantBook()\n",
    "\n",
    "symbols = {}\n",
    "assets = [\"SHY\", \"TLT\", \"SHV\", \"TLH\", \"EDV\", \"BIL\",\n",
    "                  \"SPTL\", \"TBT\", \"TMF\", \"TMV\", \"TBF\", \"VGSH\", \"VGIT\",\n",
    "                  \"VGLT\", \"SCHO\", \"SCHR\", \"SPTS\", \"GOVT\"]\n",
    "\n",
    "for i in range(len(assets)):\n",
    "    symbols[assets[i]] = qb.AddEquity(assets[i],Resolution.Minute).Symbol\n",
    "\n",
    "# Fetch history on our universe\n",
    "df = qb.History(qb.Securities.Keys, 30, Resolution.Daily)\n",
    "# Make all of them into a single time index.\n",
    "df = df.close.unstack(level=0)\n",
    "# Calculate the truth value of the most recent price being less than 1 std away from the mean\n",
    "classifier = df.le(df.mean().subtract(df.std())).tail(1)\n",
    "# Get indexes of the True values\n",
    "classifier_indexes = np.where(classifier)[1]\n",
    "# Get the Symbols for the True values\n",
    "classifier = classifier.transpose().iloc[classifier_indexes].index.values\n",
    "# Get the std values for the True values (used for Insight magnitude)\n",
    "magnitude = df.std().transpose()[classifier_indexes].values\n",
    "# Zip together to iterate over later\n",
    "selected = zip(classifier, magnitude)\n",
    "\n",
    "for x, y in selected:\n",
    "    print(f'Symbol: {x}, Magnitude: {y}')"
   ]
  }
 ],
 "metadata": {
  "kernelspec": {
   "display_name": "Python 3",
   "language": "python",
   "name": "python3"
  },
  "language_info": {
   "codemirror_mode": {
    "name": "ipython",
    "version": 3
   },
   "file_extension": ".py",
   "mimetype": "text/x-python",
   "name": "python",
   "nbconvert_exporter": "python",
   "pygments_lexer": "ipython3",
   "version": "3.6.8"
  }
 },
 "nbformat": 4,
 "nbformat_minor": 2
}
