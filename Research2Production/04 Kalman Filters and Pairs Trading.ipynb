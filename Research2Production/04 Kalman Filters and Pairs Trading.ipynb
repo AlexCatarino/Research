{
 "cells": [
  {
   "cell_type": "markdown",
   "metadata": {},
   "source": [
    "![QuantConnect Logo](https://cdn.quantconnect.com/web/i/icon.png)\n",
    "<hr>"
   ]
  },
  {
   "cell_type": "markdown",
   "metadata": {},
   "source": [
    "### Kalman Filters and Pairs Trading\n",
    "\n",
    "There are a few Python packages out there for Kalman filters, but we're adapting this example and the Kalman filter class code from [this article](https://www.quantstart.com/articles/kalman-filter-based-pairs-trading-strategy-in-qstrader) and demonstrating how you can implement similar ideas using QuantConnect!\n",
    "\n",
    "Briefly, a Kalman filter is a [state-space model](https://en.wikipedia.org/wiki/State-space_representation) applicable to linear dynamic systems -- systems whose state is time-dependent and state variations are represented linearly. The model is used to estimate unknown states of a variable based on a series of past values. The procedure is two-fold: a prediction (estimate) is made by the filter of the current state of a variable and the uncertainty of the estimate itself. When new data is available, these estimates are updated. There is a lot of information available about Kalman filters, and the variety of their applications is pretty astounding, but for now, we're going to use a Kalman filter to estimate the hedge ratio between a pair of equities.\n",
    "\n",
    "The idea behind the strategy is pretty straightforward: take two equities that are cointegrated and create a long-short portfolio. The premise of this is that the spread between the value of our two positions should be mean-reverting. Anytime the spread deviates from its expected value, one of the assets moved in an unexpected direction and is due to revert back. When the spread diverges, you can take advantage of this by going long or short on the spread.\n",
    "\n",
    "To illustrate, imagine you have a long position in AAPL worth \\\\$2000 and a short position in IBM worth \\\\$2000. This gives you a net spread of \\\\$0. Since you expected AAPL and IBM to move together, then if the spread increases significantly above \\\\$0, you would short the spread in the expectation that it will return to \\\\$0, it's natural equilibrium. Similarly, if the value drops significantly below \\\\$0, you would long the spread and capture the profits as its value returns to \\\\$0. In our application, the Kalman filter will be used to track the hedging ratio between our equities to ensure that the portfolio value is stationary, which means it will continue to exhibit mean-reversion behavior."
   ]
  },
  {
   "cell_type": "markdown",
   "metadata": {},
   "source": [
    "##### Note: Run the final cell first so the remaining cells will execute"
   ]
  },
  {
   "cell_type": "code",
   "execution_count": 2,
   "metadata": {},
   "outputs": [],
   "source": [
    "# QuantBook Analysis Tool \n",
    "# For more information see [https://www.quantconnect.com/docs/research/overview]\n",
    "import numpy as np\n",
    "from math import floor\n",
    "import matplotlib.pyplot as plt\n",
    "from KalmanFilter import KalmanFilter\n",
    "\n",
    "qb = QuantBook()\n",
    "symbols = [qb.AddEquity(x).Symbol for x in ['VIA', 'VIAB']]"
   ]
  },
  {
   "cell_type": "markdown",
   "metadata": {},
   "source": [
    "Now, we initialize the Kalman Filter, grab our data, and then run the Kalman Filter update process over the data."
   ]
  },
  {
   "cell_type": "code",
   "execution_count": 3,
   "metadata": {},
   "outputs": [
    {
     "name": "stdout",
     "output_type": "stream",
     "text": [
      "[26.19257561] :: [[0.03162278]] :: 0\n",
      "[25.84020912] :: [[0.28741791]] :: 1786\n",
      "[0.13404521] :: [[0.29639079]] :: 1795\n",
      "[-0.42714423] :: [[0.31514705]] :: 1768\n",
      "[0.24662073] :: [[0.31807877]] :: 1783\n",
      "[0.38152379] :: [[0.31687043]] :: 1807\n",
      "[0.12279125] :: [[0.31913823]] :: 1815\n"
     ]
    }
   ],
   "source": [
    "kf = KalmanFilter()\n",
    "history = qb.History(qb.Securities.Keys, datetime(2019, 1, 1), datetime(2019, 1, 11), Resolution.Daily)\n",
    "prices = history.unstack(level=1).close.transpose()\n",
    "for index, row in prices.iterrows():\n",
    "    via = row.loc[str(symbols[0].ID)]\n",
    "    viab = row.loc[str(symbols[1].ID)]\n",
    "    forecast_error, prediction_std_dev, hedge_quantity = kf.update(via, viab)\n",
    "    print(f'{forecast_error} :: {prediction_std_dev} :: {hedge_quantity}')"
   ]
  },
  {
   "cell_type": "markdown",
   "metadata": {},
   "source": [
    "In an algorithm, the <em>kf.qty</em> variable is the number of shares to invested in VIAB, and <em>hedge_quantity</em> is the amount to trade in the opposite direction for VIA"
   ]
  },
  {
   "cell_type": "markdown",
   "metadata": {},
   "source": [
    "##### Code for the Kalman Filter"
   ]
  },
  {
   "cell_type": "code",
   "execution_count": 1,
   "metadata": {},
   "outputs": [],
   "source": [
    "import numpy as np\n",
    "from math import floor\n",
    "\n",
    "class KalmanFilter:\n",
    "    def __init__(self):\n",
    "        self.delta = 1e-4\n",
    "        self.wt = self.delta / (1 - self.delta) * np.eye(2)\n",
    "        self.vt = 1e-3\n",
    "        self.theta = np.zeros(2)\n",
    "        self.P = np.zeros((2, 2))\n",
    "        self.R = None\n",
    "        self.qty = 2000\n",
    "\n",
    "    def update(self, price_one, price_two):\n",
    "        # Create the observation matrix of the latest prices\n",
    "        # of TLT and the intercept value (1.0)\n",
    "        F = np.asarray([price_one, 1.0]).reshape((1, 2))\n",
    "        y = price_two\n",
    "\n",
    "        # The prior value of the states \\theta_t is\n",
    "        # distributed as a multivariate Gaussian with\n",
    "        # mean a_t and variance-covariance R_t\n",
    "        if self.R is not None:\n",
    "            self.R = self.C + self.wt\n",
    "        else:\n",
    "            self.R = np.zeros((2, 2))\n",
    "\n",
    "        # Calculate the Kalman Filter update\n",
    "        # ----------------------------------\n",
    "        # Calculate prediction of new observation\n",
    "        # as well as forecast error of that prediction\n",
    "        yhat = F.dot(self.theta)\n",
    "        et = y - yhat\n",
    "\n",
    "        # Q_t is the variance of the prediction of\n",
    "        # observations and hence \\sqrt{Q_t} is the\n",
    "        # standard deviation of the predictions\n",
    "        Qt = F.dot(self.R).dot(F.T) + self.vt\n",
    "        sqrt_Qt = np.sqrt(Qt)\n",
    "\n",
    "        # The posterior value of the states \\theta_t is\n",
    "        # distributed as a multivariate Gaussian with mean\n",
    "        # m_t and variance-covariance C_t\n",
    "        At = self.R.dot(F.T) / Qt\n",
    "        self.theta = self.theta + At.flatten() * et\n",
    "        self.C = self.R - At * F.dot(self.R)\n",
    "        hedge_quantity = int(floor(self.qty*self.theta[0]))\n",
    "        \n",
    "        return et, sqrt_Qt, hedge_quantity"
   ]
  },
  {
   "cell_type": "code",
   "execution_count": null,
   "metadata": {},
   "outputs": [],
   "source": []
  }
 ],
 "metadata": {
  "kernelspec": {
   "display_name": "Python 3",
   "language": "python",
   "name": "python3"
  },
  "language_info": {
   "codemirror_mode": {
    "name": "ipython",
    "version": 3
   },
   "file_extension": ".py",
   "mimetype": "text/x-python",
   "name": "python",
   "nbconvert_exporter": "python",
   "pygments_lexer": "ipython3",
   "version": "3.6.8"
  }
 },
 "nbformat": 4,
 "nbformat_minor": 2
}
