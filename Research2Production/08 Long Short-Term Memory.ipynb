{
 "cells": [
  {
   "cell_type": "markdown",
   "metadata": {},
   "source": [
    "![QuantConnect Logo](https://cdn.quantconnect.com/web/i/icon.png)\n",
    "<hr>"
   ]
  },
  {
   "cell_type": "markdown",
   "metadata": {},
   "source": [
    "# Recurrent Neural Networks\n",
    "\n",
    "Recurrent neural networks (RNN) are an extremely powerful tool in deep learning. These models quite accurately mimic how humans process information and learn. Unlike traditional feedforward neural networks, RNNs have memory. That is, information fed into them persists and the network is able to draw on this to make inferences."
   ]
  },
  {
   "cell_type": "markdown",
   "metadata": {},
   "source": [
    "##### Long Short-term Memory\n",
    "Long Short-term Memory (LSTM) is a type of recurrent neural network. Instead of one layer, LSTM cells generally have four, three of which are part of \"gates\" -- ways to optionally let information through. The three gates are commonly referred to as the forget, input, and output gates. The forget gate layer is where the model decides what information to keep from prior states. At the input gate layer, the model decides which values to update. Finally, the output gate layer is where the final output of the cell state is decided. Essentially, LSTM separately decides what to remember and the rate at which it should update."
   ]
  },
  {
   "cell_type": "markdown",
   "metadata": {},
   "source": [
    "##### Financial Applications\n",
    "LSTM models have produced some great results when applied to time-series prediction. One of the central challenges with conventional time-series models is that, despite trying to account for trends or other non-stationary elements, it is almost impossible to truly predict an outlier like a recession, flash crash, liquidity crisis, etc. By having a long memory, LSTM models are better able to capture these difficult trends in the data without suffering from the level of overfitting a conventional model would need in order to capture the same data.\n",
    "\n",
    "For a very basic application, we're going to use a LSTM model to predict the price movement, a non-stationary time-series, of SPY."
   ]
  },
  {
   "cell_type": "code",
   "execution_count": 1,
   "metadata": {},
   "outputs": [
    {
     "name": "stderr",
     "output_type": "stream",
     "text": [
      "Using TensorFlow backend.\n"
     ]
    }
   ],
   "source": [
    "import numpy as np\n",
    "import pandas as pd\n",
    "import matplotlib.pyplot as plt\n",
    "from sklearn.preprocessing import MinMaxScaler\n",
    "\n",
    "# Import keras modules\n",
    "from keras.layers import LSTM\n",
    "from keras.layers import Dense\n",
    "from keras.layers import Dropout\n",
    "from keras.models import Sequential\n",
    "\n",
    "qb = QuantBook()\n",
    "symbol = qb.AddEquity(\"SPY\").Symbol\n",
    "\n",
    "# Fetch history\n",
    "history = qb.History([symbol], 1280, Resolution.Daily)\n",
    "\n",
    "# Fetch price\n",
    "total_price = history.loc[symbol].close\n",
    "training_price = history.loc[symbol].close[:1260]\n",
    "test_price = history.loc[symbol].close[1260:]\n",
    "\n",
    "# Transform price\n",
    "price_array = np.array(training_price).reshape((len(training_price), 1))"
   ]
  },
  {
   "cell_type": "code",
   "execution_count": 2,
   "metadata": {},
   "outputs": [
    {
     "data": {
      "text/plain": [
       "(1200, 60, 1)"
      ]
     },
     "execution_count": 2,
     "metadata": {},
     "output_type": "execute_result"
    }
   ],
   "source": [
    "# Scale data onto [0,1]\n",
    "scaler = MinMaxScaler(feature_range = (0, 1))\n",
    "\n",
    "# Transform our data\n",
    "spy_training_scaled = scaler.fit_transform(price_array)\n",
    "\n",
    "# Build feauture and label sets (using number of steps 60, batch size 1200, and hidden size 1)\n",
    "features_set = []\n",
    "labels = []\n",
    "for i in range(60, 1260):\n",
    "    features_set.append(spy_training_scaled[i-60:i, 0])\n",
    "    labels.append(spy_training_scaled[i, 0])\n",
    "features_set, labels = np.array(features_set), np.array(labels)\n",
    "features_set = np.reshape(features_set, (features_set.shape[0], features_set.shape[1], 1))\n",
    "features_set.shape"
   ]
  },
  {
   "cell_type": "code",
   "execution_count": 3,
   "metadata": {},
   "outputs": [
    {
     "name": "stdout",
     "output_type": "stream",
     "text": [
      "WARNING:tensorflow:From /opt/miniconda3/lib/python3.6/site-packages/tensorflow_core/python/ops/resource_variable_ops.py:1630: calling BaseResourceVariable.__init__ (from tensorflow.python.ops.resource_variable_ops) with constraint is deprecated and will be removed in a future version.\n",
      "Instructions for updating:\n",
      "If using Keras pass *_constraint arguments to layers.\n"
     ]
    }
   ],
   "source": [
    "# Build a Sequential keras model\n",
    "model = Sequential()\n",
    "\n",
    "# Add our first LSTM layer - 50 nodes\n",
    "model.add(LSTM(units = 50, return_sequences=True, input_shape=(features_set.shape[1], 1)))\n",
    "# Add Dropout layer to avoid overfitting\n",
    "model.add(Dropout(0.2))\n",
    "# Add additional layers\n",
    "model.add(LSTM(units=50, return_sequences=True))\n",
    "model.add(Dropout(0.2))\n",
    "model.add(LSTM(units=50, return_sequences=True))\n",
    "model.add(Dropout(0.2))\n",
    "model.add(LSTM(units=50))\n",
    "model.add(Dropout(0.2))\n",
    "model.add(Dense(units = 1))\n",
    "\n",
    "# Compile the model\n",
    "model.compile(optimizer = 'adam', loss = 'mean_squared_error', metrics=['mae', 'acc'])"
   ]
  },
  {
   "cell_type": "code",
   "execution_count": 4,
   "metadata": {
    "scrolled": true
   },
   "outputs": [
    {
     "name": "stdout",
     "output_type": "stream",
     "text": [
      "WARNING:tensorflow:From /opt/miniconda3/lib/python3.6/site-packages/keras/backend/tensorflow_backend.py:422: The name tf.global_variables is deprecated. Please use tf.compat.v1.global_variables instead.\n",
      "\n",
      "Epoch 1/50\n",
      "1200/1200 [==============================] - 215s 180ms/step - loss: 0.0463 - mae: 0.1458 - acc: 0.0017\n",
      "Epoch 2/50\n",
      "1200/1200 [==============================] - 98s 82ms/step - loss: 0.0067 - mae: 0.0568 - acc: 0.0017\n",
      "Epoch 3/50\n",
      "1200/1200 [==============================] - 107s 89ms/step - loss: 0.0055 - mae: 0.0510 - acc: 0.0017\n",
      "Epoch 4/50\n",
      "1200/1200 [==============================] - 101s 84ms/step - loss: 0.0049 - mae: 0.0480 - acc: 0.0017\n",
      "Epoch 5/50\n",
      "1200/1200 [==============================] - 99s 82ms/step - loss: 0.0053 - mae: 0.0502 - acc: 0.0017\n",
      "Epoch 6/50\n",
      "1200/1200 [==============================] - 102s 85ms/step - loss: 0.0050 - mae: 0.0499 - acc: 0.0017\n",
      "Epoch 7/50\n",
      "1200/1200 [==============================] - 129s 108ms/step - loss: 0.0047 - mae: 0.0477 - acc: 0.0017\n",
      "Epoch 8/50\n",
      "1200/1200 [==============================] - 98s 82ms/step - loss: 0.0047 - mae: 0.0466 - acc: 0.0017\n",
      "Epoch 9/50\n",
      "1200/1200 [==============================] - 102s 85ms/step - loss: 0.0050 - mae: 0.0485 - acc: 0.0017\n",
      "Epoch 10/50\n",
      "1200/1200 [==============================] - 87s 72ms/step - loss: 0.0037 - mae: 0.0427 - acc: 0.0017\n",
      "Epoch 11/50\n",
      "1200/1200 [==============================] - 92s 77ms/step - loss: 0.0037 - mae: 0.0420 - acc: 0.0017\n",
      "Epoch 12/50\n",
      "1200/1200 [==============================] - 90s 75ms/step - loss: 0.0045 - mae: 0.0468 - acc: 0.0017\n",
      "Epoch 13/50\n",
      "1200/1200 [==============================] - 101s 84ms/step - loss: 0.0037 - mae: 0.0423 - acc: 0.0017\n",
      "Epoch 14/50\n",
      "1200/1200 [==============================] - 95s 79ms/step - loss: 0.0036 - mae: 0.0427 - acc: 0.0017\n",
      "Epoch 15/50\n",
      "1200/1200 [==============================] - 82s 68ms/step - loss: 0.0033 - mae: 0.0405 - acc: 0.0017\n",
      "Epoch 16/50\n",
      "1200/1200 [==============================] - 83s 69ms/step - loss: 0.0033 - mae: 0.0403 - acc: 0.0017\n",
      "Epoch 17/50\n",
      "1200/1200 [==============================] - 114s 95ms/step - loss: 0.0035 - mae: 0.0423 - acc: 0.0017\n",
      "Epoch 18/50\n",
      "1200/1200 [==============================] - 94s 78ms/step - loss: 0.0034 - mae: 0.0400 - acc: 0.0017\n",
      "Epoch 19/50\n",
      "1200/1200 [==============================] - 79s 66ms/step - loss: 0.0029 - mae: 0.0382 - acc: 0.0017\n",
      "Epoch 20/50\n",
      "1200/1200 [==============================] - 82s 69ms/step - loss: 0.0031 - mae: 0.0402 - acc: 0.0017\n",
      "Epoch 21/50\n",
      "1200/1200 [==============================] - 85s 70ms/step - loss: 0.0027 - mae: 0.0371 - acc: 0.0017\n",
      "Epoch 22/50\n",
      "1200/1200 [==============================] - 83s 69ms/step - loss: 0.0043 - mae: 0.0462 - acc: 0.0017\n",
      "Epoch 23/50\n",
      "1200/1200 [==============================] - 85s 71ms/step - loss: 0.0030 - mae: 0.0378 - acc: 0.0017\n",
      "Epoch 24/50\n",
      "1200/1200 [==============================] - 109s 91ms/step - loss: 0.0027 - mae: 0.0367 - acc: 0.0017\n",
      "Epoch 25/50\n",
      "1200/1200 [==============================] - 97s 81ms/step - loss: 0.0029 - mae: 0.0381 - acc: 0.0017\n",
      "Epoch 26/50\n",
      "1200/1200 [==============================] - 104s 86ms/step - loss: 0.0028 - mae: 0.0377 - acc: 0.0017\n",
      "Epoch 27/50\n",
      "1200/1200 [==============================] - 101s 84ms/step - loss: 0.0026 - mae: 0.0368 - acc: 0.0017\n",
      "Epoch 28/50\n",
      "1200/1200 [==============================] - 103s 86ms/step - loss: 0.0031 - mae: 0.0393 - acc: 0.0017\n",
      "Epoch 29/50\n",
      "1200/1200 [==============================] - 99s 83ms/step - loss: 0.0024 - mae: 0.0349 - acc: 0.0017\n",
      "Epoch 30/50\n",
      "1200/1200 [==============================] - 102s 85ms/step - loss: 0.0031 - mae: 0.0400 - acc: 0.0017\n",
      "Epoch 31/50\n",
      "1200/1200 [==============================] - 96s 80ms/step - loss: 0.0025 - mae: 0.0368 - acc: 0.0017\n",
      "Epoch 32/50\n",
      "1200/1200 [==============================] - 83s 69ms/step - loss: 0.0024 - mae: 0.0350 - acc: 0.0017\n",
      "Epoch 33/50\n",
      "1200/1200 [==============================] - 77s 64ms/step - loss: 0.0023 - mae: 0.0340 - acc: 0.0017\n",
      "Epoch 34/50\n",
      "1200/1200 [==============================] - 80s 67ms/step - loss: 0.0023 - mae: 0.0348 - acc: 0.0017\n",
      "Epoch 35/50\n",
      "1200/1200 [==============================] - 82s 68ms/step - loss: 0.0022 - mae: 0.0337 - acc: 0.0017\n",
      "Epoch 36/50\n",
      "1200/1200 [==============================] - 75s 63ms/step - loss: 0.0024 - mae: 0.0356 - acc: 0.0017\n",
      "Epoch 37/50\n",
      "1200/1200 [==============================] - 84s 70ms/step - loss: 0.0022 - mae: 0.0330 - acc: 0.0017\n",
      "Epoch 38/50\n",
      "1200/1200 [==============================] - 97s 81ms/step - loss: 0.0023 - mae: 0.0330 - acc: 0.0017\n",
      "Epoch 39/50\n",
      "1200/1200 [==============================] - 106s 89ms/step - loss: 0.0023 - mae: 0.0343 - acc: 0.0017\n",
      "Epoch 40/50\n",
      "1200/1200 [==============================] - 24s 20ms/step - loss: 0.0022 - mae: 0.0333 - acc: 0.0017\n",
      "Epoch 41/50\n",
      "1200/1200 [==============================] - 20s 16ms/step - loss: 0.0021 - mae: 0.0327 - acc: 0.0017\n",
      "Epoch 42/50\n",
      "1200/1200 [==============================] - 32s 27ms/step - loss: 0.0024 - mae: 0.0353 - acc: 0.0017\n",
      "Epoch 43/50\n",
      "1200/1200 [==============================] - 24s 20ms/step - loss: 0.0023 - mae: 0.0335 - acc: 0.0017\n",
      "Epoch 44/50\n",
      "1200/1200 [==============================] - 33s 28ms/step - loss: 0.0024 - mae: 0.0338 - acc: 0.0017\n",
      "Epoch 45/50\n",
      "1200/1200 [==============================] - 27s 23ms/step - loss: 0.0020 - mae: 0.0319 - acc: 0.0017\n",
      "Epoch 46/50\n",
      "1200/1200 [==============================] - 19s 16ms/step - loss: 0.0019 - mae: 0.0307 - acc: 0.0017\n",
      "Epoch 47/50\n",
      "1200/1200 [==============================] - 21s 18ms/step - loss: 0.0021 - mae: 0.0318 - acc: 0.0017\n",
      "Epoch 48/50\n",
      "1200/1200 [==============================] - 20s 16ms/step - loss: 0.0020 - mae: 0.0322 - acc: 0.0017\n",
      "Epoch 49/50\n",
      "1200/1200 [==============================] - 35s 29ms/step - loss: 0.0021 - mae: 0.0325 - acc: 0.0017\n",
      "Epoch 50/50\n",
      "1200/1200 [==============================] - 33s 27ms/step - loss: 0.0020 - mae: 0.0320 - acc: 0.0017\n"
     ]
    },
    {
     "data": {
      "text/plain": [
       "<keras.callbacks.callbacks.History at 0x7f2d0c309ba8>"
      ]
     },
     "execution_count": 4,
     "metadata": {},
     "output_type": "execute_result"
    }
   ],
   "source": [
    "# Fit the model to our data, running 50 training epochs\n",
    "model.fit(features_set, labels, epochs = 50, batch_size = 32)"
   ]
  },
  {
   "cell_type": "code",
   "execution_count": 6,
   "metadata": {},
   "outputs": [
    {
     "data": {
      "image/png": "[encoded data removed]",
      "text/plain": [
       "<Figure size 720x432 with 1 Axes>"
      ]
     },
     "metadata": {
      "needs_background": "light"
     },
     "output_type": "display_data"
    }
   ],
   "source": [
    "# Get and transform inputs for testing our predictions\n",
    "test_inputs = total_price[-80:].values\n",
    "test_inputs = test_inputs.reshape(-1,1)\n",
    "test_inputs = scaler.transform(test_inputs)\n",
    "\n",
    "# Get test features\n",
    "test_features = []\n",
    "for i in range(60, 80):\n",
    "    test_features.append(test_inputs[i-60:i, 0])\n",
    "test_features = np.array(test_features)\n",
    "test_features = np.reshape(test_features, (test_features.shape[0], test_features.shape[1], 1))\n",
    "\n",
    "# Make predictions\n",
    "predictions = model.predict(test_features)\n",
    "\n",
    "# Transform predictions back to original data-scale\n",
    "predictions = scaler.inverse_transform(predictions)\n",
    "\n",
    "# Plot our results!\n",
    "plt.figure(figsize=(10,6))\n",
    "plt.plot(test_price.values, color='blue', label='Actual')\n",
    "plt.plot(predictions , color='red', label='Prediction')\n",
    "plt.title('Price vs Predicted Price ')\n",
    "plt.legend()\n",
    "plt.show()"
   ]
  },
  {
   "cell_type": "code",
   "execution_count": null,
   "metadata": {},
   "outputs": [],
   "source": []
  }
 ],
 "metadata": {
  "kernelspec": {
   "display_name": "Python 3",
   "language": "python",
   "name": "python3"
  },
  "language_info": {
   "codemirror_mode": {
    "name": "ipython",
    "version": 3
   },
   "file_extension": ".py",
   "mimetype": "text/x-python",
   "name": "python",
   "nbconvert_exporter": "python",
   "pygments_lexer": "ipython3",
   "version": "3.6.8"
  }
 },
 "nbformat": 4,
 "nbformat_minor": 2
}