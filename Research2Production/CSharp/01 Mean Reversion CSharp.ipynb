{
 "cells": [
  {
   "cell_type": "markdown",
   "metadata": {},
   "source": [
    "![QuantConnect Logo](https://cdn.quantconnect.com/web/i/icon.png)\n",
    "<hr>"
   ]
  },
  {
   "cell_type": "markdown",
   "metadata": {},
   "source": [
    "### Mean Reversion\n",
    "A number of financial signals can be thought to be mean-reverting (i.e. the spread between two assets prices). There are a number of ways to test for mean-reversion, but in this example we will assume it holds.\n"
   ]
  },
  {
   "cell_type": "markdown",
   "metadata": {},
   "source": [
    "We use the research notebook to calculate the spread between an asset's price and its historical mean (past 30 days). Then, we calculate the standard deviation and determine which assets\n",
    "have moved more than one standard deviation below their average price. The theory is that they are due to revert back towards the mean, and so we can take advantage of this by taking \n",
    "long positions."
   ]
  },
  {
   "cell_type": "code",
   "execution_count": 1,
   "metadata": {},
   "outputs": [],
   "source": [
    "// QuantBook C# Research Environment\n",
    "// For more information see https://www.quantconnect.com/docs/research/overview\n",
    "#load \"../QuantConnect.csx\"\n",
    "\n",
    "// Initialize QuantBook\n",
    "var qb = new QuantBook();\n",
    "\n",
    "var assets = new List<string>() {\"SHY\", \"TLT\", \"SHV\", \"TLH\", \"EDV\", \"BIL\",\n",
    "                  \"SPTL\", \"TBT\", \"TMF\", \"TMV\", \"TBF\", \"VGSH\", \"VGIT\",\n",
    "                  \"VGLT\", \"SCHO\", \"SCHR\", \"SPTS\", \"GOVT\"};\n",
    "\n",
    "// Subscribed to data for given assets\n",
    "foreach(var ticker in assets){\n",
    "    qb.AddEquity(ticker, Resolution.Minute);\n",
    "}\n",
    "\n",
    "// Request past 30 days of historical price data for given assets\n",
    "var history = qb.History(qb.Securities.Keys, 30, Resolution.Daily);\n",
    "\n",
    "\n",
    "var closes = new Dictionary<Symbol, List<Decimal>>();\n",
    "\n",
    "// extract close prices for each Symbol from Slice data\n",
    "foreach(var slice in history){\n",
    "    foreach(var symbol in slice.Keys){\n",
    "        if(!closes.ContainsKey(symbol)){\n",
    "            closes.Add(symbol, new List<Decimal>());\n",
    "        }\n",
    "        closes[symbol].Add(slice.Bars[symbol].Close);\n",
    "    }\n",
    "}\n"
   ]
  },
  {
   "cell_type": "code",
   "execution_count": 2,
   "metadata": {},
   "outputs": [],
   "source": [
    "var means = new Dictionary<Symbol, Decimal>();\n",
    "\n",
    "// Calculate mean price over 30 day period for each symbol\n",
    "foreach(var symbol in closes.Keys){\n",
    "    if(!means.ContainsKey(symbol)){\n",
    "        var avg = closes[symbol].Average();\n",
    "        means.Add(symbol, avg);\n",
    "    }\n",
    "}\n",
    "\n",
    "var std = new Dictionary<Symbol, Decimal>();\n",
    "\n",
    "// Calculate standard deviation of prices for each symbol\n",
    "foreach(var symbol in closes.Keys){\n",
    "    if(!std.ContainsKey(symbol)){\n",
    "        var average = means[symbol];\n",
    "        var sumOfSquaresOfDifferences = closes[symbol].Select(val => (val - average) * (val - average)).Sum();\n",
    "        var sd = (Decimal)Math.Sqrt((double) (sumOfSquaresOfDifferences / closes[symbol].Count()));\n",
    "\n",
    "        std.Add(symbol, sd);\n",
    "    }\n",
    "}"
   ]
  },
  {
   "cell_type": "code",
   "execution_count": 3,
   "metadata": {},
   "outputs": [],
   "source": [
    "var selected = new List<Symbol>();\n",
    "\n",
    "// Select symbols which are 1 standard deviation below their 30 day mean\n",
    "foreach(var symbol in closes.Keys){\n",
    "    var close_values = closes[symbol];\n",
    "    var last_close = close_values[close_values.Count - 1];\n",
    "    var lower_bound = means[symbol] - std[symbol];\n",
    "    \n",
    "    if(last_close < lower_bound){\n",
    "        selected.Add(symbol);\n",
    "    }\n",
    "}\n",
    "\n",
    "selected.ForEach(x => {Console.WriteLine(x);});"
   ]
  }
 ],
 "metadata": {
  "kernelspec": {
   "display_name": "C#",
   "language": "csharp",
   "name": "csharp"
  },
  "language_info": {
   "file_extension": ".cs",
   "mimetype": "text/x-csharp",
   "name": "C#",
   "pygments_lexer": "c#",
   "version": "4.0.30319"
  },
  "pycharm": {
   "stem_cell": {
    "cell_type": "raw",
    "metadata": {
     "collapsed": false
    },
    "source": []
   }
  }
 },
 "nbformat": 4,
 "nbformat_minor": 2
}
