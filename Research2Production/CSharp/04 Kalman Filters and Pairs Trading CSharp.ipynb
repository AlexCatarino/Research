{
 "cells": [
  {
   "cell_type": "markdown",
   "metadata": {},
   "source": [
    "![QuantConnect Logo](https://cdn.quantconnect.com/web/i/icon.png)\n",
    "<hr>"
   ]
  },
  {
   "cell_type": "markdown",
   "metadata": {},
   "source": [
    "### Kalman Filters and Pairs Trading\n",
    "    \n",
    "There are a few Python packages out there for Kalman filters, but we're adapting this example and the Kalman filter class code from [this article](https://www.quantstart.com/articles/kalman-filter-based-pairs-trading-strategy-in-qstrader) and demonstrating how you can implement similar ideas using QuantConnect!,\n",
    "    \n",
    "Briefly, a Kalman filter is a [state-space model](https://en.wikipedia.org/wiki/State-space_representation) applicable to linear dynamic systems -- systems whose state is time-dependent and state variations are represented linearly. The model is used to estimate unknown states of a variable based on a series of past values. The procedure is two-fold: a prediction (estimate) is made by the filter of the current state of a variable and the uncertainty of the estimate itself. When new data is available, these estimates are updated. There is a lot of information available about Kalman filters, and the variety of their applications is pretty astounding, but for now, we're going to use a Kalman filter to estimate the hedge ratio between a pair of equities.\n",
    "   \n",
    "The idea behind the strategy is pretty straightforward: take two equities that are cointegrated and create a long-short portfolio. The premise of this is that the spread between the value of our two positions should be mean-reverting. Anytime the spread deviates from its expected value, one of the assets moved in an unexpected direction and is due to revert back. When the spread diverges, you can take advantage of this by going long or short on the spread.\n",
    "    \n",
    "To illustrate, imagine you have a long position in AAPL worth \\\\\\\\$2000 and a short position in IBM worth \\\\\\\\$2000. This gives you a net spread of \\\\\\\\$0. Since you expected AAPL and IBM to move together, then if the spread increases significantly above \\\\\\\\$0, you would short the spread in the expectation that it will return to \\\\\\\\$0, it's natural equilibrium. Similarly, if the value drops significantly below \\\\\\\\$0, you would long the spread and capture the profits as its value returns to \\\\\\\\$0. In our application, the Kalman filter will be used to track the hedging ratio between our equities to ensure that the portfolio value is stationary, which means it will continue to exhibit mean-reversion behavior."
   ]
  },
  {
   "cell_type": "code",
   "execution_count": 7,
   "metadata": {},
   "outputs": [],
   "source": [
    "// QuantBook C# Research Environment\n",
    "// For more information see https://www.quantconnect.com/docs/research/overview\n",
    "#load \"../QuantConnect.csx\"\n",
    "var qb = new QuantBook();\n",
    "var via = qb.AddEquity(\"VIA\", Resolution.Daily).Symbol;\n",
    "var viab = qb.AddEquity(\"VIAB\", Resolution.Daily).Symbol;"
   ]
  },
  {
   "cell_type": "code",
   "execution_count": 8,
   "metadata": {},
   "outputs": [],
   "source": [
    "public class KalmanFilter\n",
    "{\n",
    "    \n",
    "    private decimal delta = 0.0001M;\n",
    "    private decimal[,] wt = new decimal[,] {{0.0001M / (1 - 0.0001M), 0}, {0 , 0.0001M / (1 - 0.0001M)}};\n",
    "    private decimal vt = 0.001M;\n",
    "    private decimal[] theta = new decimal[2] {0, 0};\n",
    "    private decimal[,] P = new decimal[,] {{0, 0}, {0, 0}};\n",
    "    private decimal[,] R = null;\n",
    "    private decimal qty = 2000;\n",
    "    private decimal[,] C = new decimal[2,2];\n",
    "   \n",
    "    \n",
    "    public List<decimal> Update(decimal priceOne, decimal priceTwo)\n",
    "    {\n",
    "//      Create the observation matrix of the latest prices\n",
    "//      of TLT and the intercept value (1.0)\n",
    "        decimal[] F = new decimal[2] {priceOne, 1.0M};\n",
    "        decimal y = priceTwo;\n",
    "        \n",
    "        \n",
    "//      The prior value of the states \\theta_t is\n",
    "//      distributed as a multivariate Gaussian with\n",
    "//      mean a_t and variance-covariance R_t\n",
    "        if(R == null){\n",
    "            R = new decimal[,] {{0, 0}, {0, 0}};\n",
    "        }else{           \n",
    "            for(int k = 0; k <= 1; k++){\n",
    "                for(int j = 0; j <= 1; j++){\n",
    "                    R[k,j] = C[k,j] + wt[k,j];\n",
    "                }\n",
    "            }\n",
    "        }\n",
    "        \n",
    "//      Calculate the Kalman Filter update\n",
    "//      ----------------------------------\n",
    "//      Calculate prediction of new observation\n",
    "//      as well as forecast error of that prediction\n",
    "        decimal yhat = F[0] * theta[0] + F[1] * theta[1];\n",
    "        decimal et = y - yhat;\n",
    "        \n",
    "//      Q_t is the variance of the prediction of\n",
    "//      observations and hence \\sqrt{Q_t} is the\n",
    "//      standard deviation of the predictions\n",
    "        decimal[] FR = new decimal[2];\n",
    "        FR[0] = F[0] * R[0,0] + F[0] * R[0,1];\n",
    "        FR[1] = F[1] * R[1,0] + F[1] * R[1,1];\n",
    "        \n",
    "        decimal Qt = FR[0] * F[0] + FR[1] * F[1] + vt;\n",
    "        decimal sqrtQt  = (decimal)Math.Sqrt(Convert.ToDouble(Qt));\n",
    "\n",
    "        \n",
    "//      The posterior value of the states \\theta_t is\n",
    "//      distributed as a multivariate Gaussian with mean\n",
    "//      m_t and variance-covariance C_t\n",
    "        decimal[] At = new decimal[2] {FR[0] / Qt, FR[1] / Qt};\n",
    "        theta[0] = theta[0] + At[0] * et;\n",
    "        theta[1] = theta[1] + At[1] * et;\n",
    "        C[0,0] = R[0,0] - At[0] * FR[0];\n",
    "        C[0,1] = R[0,1] - At[0] * FR[1];\n",
    "        C[1,0] = R[1,0] - At[1] * FR[0];\n",
    "        C[1,1] = R[1,1] - At[1] * FR[1];\n",
    "        decimal hedgeQuantity = Math.Floor(qty * theta[0]);\n",
    "        \n",
    "        return new List<decimal>() {et, sqrtQt, hedgeQuantity};        \n",
    "    }    \n",
    "    \n",
    "  \n",
    "\n",
    "}"
   ]
  },
  {
   "cell_type": "markdown",
   "metadata": {},
   "source": [
    "Now, we initialize the Kalman Filter, grab our data, and then run the Kalman Filter update process over the data.\n",
    "\n",
    "In an algorithm, the kf.qty variable is the number of shares to invested in VIAB, and hedge_quantity is the amount to trade in the opposite direction for VIA"
   ]
  },
  {
   "cell_type": "code",
   "execution_count": 9,
   "metadata": {},
   "outputs": [],
   "source": [
    "var kf = new KalmanFilter();\n",
    "\n",
    "\n",
    "var history = qb.History(qb.Securities.Keys, new DateTime(2019, 1, 1), new DateTime(2019, 1, 11), Resolution.Daily);\n",
    "var prices = new Dictionary<Symbol, List<decimal>>();\n",
    "\n",
    "foreach(var slice in history){\n",
    "   \n",
    "    foreach(var symbol in slice.Keys){        \n",
    "        if(!prices.ContainsKey(symbol)){\n",
    "            prices.Add(symbol, new List<decimal>());\n",
    "        }\n",
    "        prices[symbol].Add(slice.Bars[symbol].Close);\n",
    "    }\n",
    "}\n",
    "\n",
    "for(var k=0; k < prices[via].Count(); k++){  \n",
    "    var via_price = prices[via][k];\n",
    "    var viab_price = prices[viab][k];\n",
    "    var result = kf.Update(via_price, viab_price);\n",
    "    Console.WriteLine(result[0] + \" : \" + result[1] + \" : \" + result[2]);\n",
    "}"
   ]
  }
 ],
 "metadata": {
  "kernelspec": {
   "display_name": "C#",
   "language": "csharp",
   "name": "csharp"
  },
  "language_info": {
   "file_extension": ".cs",
   "mimetype": "text/x-csharp",
   "name": "C#",
   "pygments_lexer": "c#",
   "version": "4.0.30319"
  },
  "pycharm": {
   "stem_cell": {
    "cell_type": "raw",
    "metadata": {
     "collapsed": false
    },
    "source": []
   }
  }
 },
 "nbformat": 4,
 "nbformat_minor": 2
}
