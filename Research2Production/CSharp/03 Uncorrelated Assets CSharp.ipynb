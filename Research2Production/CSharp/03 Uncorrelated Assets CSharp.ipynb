{
 "cells": [
  {
   "cell_type": "markdown",
   "metadata": {},
   "source": [
    "![QuantConnect Logo](https://cdn.quantconnect.com/web/i/icon.png)\n",
    "<hr>"
   ]
  },
  {
   "cell_type": "markdown",
   "metadata": {},
   "source": [
    "### Uncorrelated Assets\n",
    "\n",
    "Finding uncorrelated assets allows you to find a portfolio that will, theoretically, be more diversified and resilient to extreme market events. When combined with other indicators and data sources, this can be an important component in building an algorithm that limits drawdown and remains profitable in choppy markets.\n",
    "\n",
    "The first step is to execute the cell containing our correlation function and then grab the historical data for the securities and use this to fetch returns data."
   ]
  },
  {
   "cell_type": "code",
   "execution_count": 1,
   "metadata": {
    "scrolled": true
   },
   "outputs": [],
   "source": [
    "// QuantBook C# Research Environment\n",
    "// For more information see https://www.quantconnect.com/docs/research/overview\n",
    "#load \"../QuantConnect.csx\"\n",
    "using MathNet.Numerics.Statistics;\n",
    "\n",
    "var qb = new QuantBook();\n",
    "\n",
    "var tickers = new List<string> {\"SQQQ\", \"TQQQ\", \"TVIX\", \"VIXY\", \"SPLV\",\n",
    "           \"SVXY\", \"UVXY\", \"EEMV\", \"EFAV\", \"USMV\"};\n",
    "\n",
    "foreach(var ticker in tickers){\n",
    "    qb.AddEquity(ticker, Resolution.Minute);\n",
    "}\n",
    "\n",
    "// Fetch history\n",
    "var history = qb.History(qb.Securities.Keys, 150, Resolution.Hour);"
   ]
  },
  {
   "cell_type": "code",
   "execution_count": 2,
   "metadata": {},
   "outputs": [],
   "source": [
    "// Calculates the % returns of our symbols over the historical data period\n",
    "public Dictionary<string, List<Double>> GetReturns(IEnumerable<Slice> history){\n",
    "    var returns = new Dictionary<string, List<Double>>();\n",
    "    var last = new Dictionary<string, Double>();\n",
    "    foreach(var slice in history){\n",
    "        foreach(var symbol in slice.Bars.Keys){\n",
    "            if(!returns.ContainsKey(symbol)){\n",
    "                returns.Add(symbol, new List<Double>());\n",
    "                last.Add(symbol, (Double)slice.Bars[symbol].Close);\n",
    "            }\n",
    "            var change = (Double) ((Double)slice.Bars[symbol].Close - last[symbol])/last[symbol];\n",
    "            returns[symbol].Add(change);\n",
    "        }    \n",
    "    }\n",
    "    return returns;\n",
    "}\n",
    "\n",
    "// Calculates the net absolute correlation between a given security and the remaining securities\n",
    "public Dictionary<string, Double> GetCorrelations(Dictionary<string, List<Double>> returns){\n",
    "    \n",
    "    var correlations = new Dictionary<string, Double>();\n",
    "    \n",
    "    foreach(var symbol in returns.Keys){\n",
    "        if(!correlations.ContainsKey(symbol)){\n",
    "            correlations.Add(symbol, 0);\n",
    "        }\n",
    "        \n",
    "        foreach(var symbol2 in returns.Keys){\n",
    "            if(symbol == symbol2) {\n",
    "                continue;\n",
    "            }\n",
    "            var corr = Correlation.Pearson(returns[symbol], returns[symbol2]);\n",
    "            correlations[symbol] += Math.Abs(corr);\n",
    "        }        \n",
    "       \n",
    "    }    \n",
    "    \n",
    "    return correlations;\n",
    "}\n"
   ]
  },
  {
   "cell_type": "markdown",
   "metadata": {},
   "source": [
    "Then, we calculate the correlation of the returns, which gives us a correlation matrix. In the GetUncorrelatedAssets function, we figure out which symbols have the lowest overall correlation with the rest of the symbols as a whole -- we want to find the five assets with the lowest average absolute correlation so that we can trade them without fearing that any pair are too highly correlated."
   ]
  },
  {
   "cell_type": "code",
   "execution_count": 3,
   "metadata": {},
   "outputs": [],
   "source": [
    "// Get hourly returns\n",
    "var returns = GetReturns(history);\n",
    "\n",
    "// Get correlations\n",
    "var corr = GetCorrelations(returns);\n",
    "    \n",
    "// Get 5 assets with least overall correlation\n",
    "var uncorrelatedAssets = corr.OrderBy(x => x.Value).Take(5);      \n",
    "  \n",
    "\n",
    "foreach(var kvp in uncorrelatedAssets){\n",
    "    Console.WriteLine(kvp.Key + \" , \" + kvp.Value);\n",
    "}"
   ]
  }
 ],
 "metadata": {
  "kernelspec": {
   "display_name": "C#",
   "language": "csharp",
   "name": "csharp"
  },
  "language_info": {
   "file_extension": ".cs",
   "mimetype": "text/x-csharp",
   "name": "C#",
   "pygments_lexer": "c#",
   "version": "4.0.30319"
  },
  "pycharm": {
   "stem_cell": {
    "cell_type": "raw",
    "metadata": {
     "collapsed": false
    },
    "source": []
   }
  }
 },
 "nbformat": 4,
 "nbformat_minor": 2
}
