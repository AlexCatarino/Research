{
 "cells": [
  {
   "cell_type": "markdown",
   "metadata": {},
   "source": [
    "![QuantConnect Logo](https://cdn.quantconnect.com/web/i/icon.png)\n",
    "<hr>"
   ]
  },
  {
   "cell_type": "code",
   "execution_count": 1,
   "metadata": {},
   "outputs": [],
   "source": [
    "// QuantBook C# Research Environment\n",
    "// For more information see https://www.quantconnect.com/docs/research/overview\n",
    "#load \"../QuantConnect.csx\"    \n",
    "using QuantConnect.Data.UniverseSelection;\n",
    "\n",
    "var qb = new QuantBook();\n",
    "var symbols = LiquidETFUniverse.SP500Sectors;\n",
    "\n",
    "var history = qb.History(symbols, 360, Resolution.Daily);"
   ]
  },
  {
   "cell_type": "code",
   "execution_count": 2,
   "metadata": {},
   "outputs": [],
   "source": [
    "// Calculates the % returns of our symbols over the historical data period\n",
    "var returns = new Dictionary<Symbol, List<decimal>>();\n",
    "var last = new Dictionary<Symbol, decimal>();\n",
    "foreach(var slice in history){\n",
    "    foreach(var symbol in slice.Bars.Keys){\n",
    "        if(!returns.ContainsKey(symbol)){\n",
    "            returns.Add(symbol, new List<decimal>());\n",
    "            last.Add(symbol, (decimal)slice.Bars[symbol].Close);\n",
    "        }\n",
    "        var change = (decimal) ((decimal)slice.Bars[symbol].Close - last[symbol])/last[symbol];\n",
    "        returns[symbol].Add(change);\n",
    "    }    \n",
    "}\n",
    "\n",
    "\n",
    "\n",
    "var means = new Dictionary<Symbol, decimal>();\n",
    "\n",
    "// Calculate mean price over 30 day period for each symbol\n",
    "foreach(var symbol in returns.Keys){\n",
    "    if(!means.ContainsKey(symbol)){\n",
    "        var avg = returns[symbol].Average();\n",
    "        means.Add(symbol, avg);\n",
    "    }\n",
    "}\n",
    "\n",
    "var std = new Dictionary<Symbol, decimal>();\n",
    "\n",
    "// Calculate standard deviation of prices for each symbol\n",
    "foreach(var symbol in returns.Keys){\n",
    "    if(!std.ContainsKey(symbol)){\n",
    "        var average = means[symbol];\n",
    "        var sumOfSquaresOfDifferences = returns[symbol].Select(val => (val - average) * (val - average)).Sum();\n",
    "        var sd = (Decimal)Math.Sqrt((double) (sumOfSquaresOfDifferences / returns[symbol].Count()));\n",
    "\n",
    "        std.Add(symbol, sd);\n",
    "    }\n",
    "}\n"
   ]
  },
  {
   "cell_type": "code",
   "execution_count": 3,
   "metadata": {},
   "outputs": [],
   "source": [
    "var ZScores = new Dictionary<Symbol, List<decimal>>();\n",
    "\n",
    "// Calculate the Z-Score for each return in the time series\n",
    "foreach(var symbol in returns.Keys){\n",
    "    \n",
    "    if(!ZScores.ContainsKey(symbol)){\n",
    "        ZScores.Add(symbol, new List<decimal>());\n",
    "    }\n",
    "    \n",
    "    foreach(var ret in returns[symbol]){\n",
    "        var score = (decimal)((ret - means[symbol])/std[symbol]);\n",
    "        ZScores[symbol].Add(score);    \n",
    "    }\n",
    "}\n",
    "\n",
    "foreach(var symbol in ZScores.Keys){\n",
    "    Console.WriteLine(symbol + \", \" + ZScores[symbol].Count);\n",
    "}"
   ]
  },
  {
   "cell_type": "code",
   "execution_count": null,
   "metadata": {},
   "outputs": [],
   "source": []
  }
 ],
 "metadata": {
  "kernelspec": {
   "display_name": "C#",
   "language": "csharp",
   "name": "csharp"
  },
  "language_info": {
   "file_extension": ".cs",
   "mimetype": "text/x-csharp",
   "name": "C#",
   "pygments_lexer": "c#",
   "version": "4.0.30319"
  },
  "pycharm": {
   "stem_cell": {
    "cell_type": "raw",
    "metadata": {
     "collapsed": false
    },
    "source": []
   }
  }
 },
 "nbformat": 4,
 "nbformat_minor": 2
}
